{
 "cells": [
  {
   "cell_type": "code",
   "execution_count": 1,
   "id": "c4cc7bfb",
   "metadata": {},
   "outputs": [
    {
     "name": "stderr",
     "output_type": "stream",
     "text": [
      "2021-11-04 15:19:22.228972: W tensorflow/stream_executor/platform/default/dso_loader.cc:64] Could not load dynamic library 'libcudart.so.11.0'; dlerror: libcudart.so.11.0: cannot open shared object file: No such file or directory\n",
      "2021-11-04 15:19:22.229008: I tensorflow/stream_executor/cuda/cudart_stub.cc:29] Ignore above cudart dlerror if you do not have a GPU set up on your machine.\n"
     ]
    }
   ],
   "source": [
    "from keras.models import Model\n",
    "from keras.layers import Input, Dense\n",
    "from matplotlib import pyplot as plt\n",
    "import numpy as np\n",
    "import cv2\n",
    "import os\n",
    "\n",
    "def create_autoencoder(input_dim, output_func, latent_dim, latent_func, hidden_dim, hidden_func):\n",
    "    input_layer = Input(shape=(input_dim,))\n",
    "    prev_layer = input_layer\n",
    "    for dim, func in zip(hidden_dim, hidden_func):\n",
    "        prev_layer = Dense(dim, activation=func)(prev_layer)\n",
    "    encoder = Dense(latent_dim, activation=latent_func)(prev_layer)\n",
    "    for dim, func in zip(reversed(hidden_dim), reversed(hidden_func)):\n",
    "        prev_layer = Dense(dim, activation=func)(prev_layer)\n",
    "    autoencoder = Dense(input_dim, activation=output_func)(prev_layer)\n",
    "    return Model(input_layer, autoencoder)\n",
    "\n",
    "\n",
    "class KDAE:\n",
    "\n",
    "    def __init__(self, k, ae_config, optimizer='adam', loss='mse') -> None:\n",
    "        self.k = k\n",
    "        self.autoencoders = []\n",
    "        self.clusters = [[] for _ in range(k)]\n",
    "        print(\"everything ok\")\n",
    "        for _ in range(k):\n",
    "            ae = create_autoencoder(**ae_config)\n",
    "            ae.compile(optimizer=optimizer, loss=loss)\n",
    "            self.autoencoders.append(ae)\n",
    "            print(\"everything ok\")\n",
    "    \n",
    "    def cluster_images(self, images):\n",
    "        self.clusters = [[] for _ in range(self.k)]\n",
    "        for image in images:\n",
    "            image_array = image.array\n",
    "            min_mse = np.infty\n",
    "            min_k = 0\n",
    "            for ae, k in enumerate(self.autoencoders):\n",
    "                ae_array = ae.predict(image_array)\n",
    "                mse = np.sum((ae_array - image_array)**2)\n",
    "                if min_mse > mse:\n",
    "                    min_mse = mse\n",
    "                    min_k = k\n",
    "            self.clusters[min_k].append(image)\n",
    "            image.prev_cluster = image.cluster\n",
    "            image.cluster = min_k\n",
    "\n",
    "    def fit_autoencoders(self, epochs=50):\n",
    "        for ae, cluster in zip(self.autoencoders, self.clusters):\n",
    "            cl = np.array(cluster)\n",
    "            ae.fit(cl, cl, epochs=epochs)\n",
    "            \n",
    "    def all_clusters_remain_same(self, images):\n",
    "        for image in images:\n",
    "            if not image.is_same_cluster():\n",
    "                return False\n",
    "        return True\n",
    "\n",
    "    def cluster_images(self, images, epochs_per_iter = 50, stop=50):\n",
    "        counter = 0\n",
    "        while self.all_clusters_remain_same(images) and counter < stop:\n",
    "            print(f\"Iteration: {counter}\")\n",
    "            self.cluster_images(images)\n",
    "            print(f\"Images clustered\")\n",
    "            self.fit_autoencoders(epochs_per_iter)\n",
    "            print(f\"Autoencoders fitted\")\n",
    "            counter += 1\n",
    "\n",
    "    def plot_cluster(self, k, figsize=(16,16)):\n",
    "        fig = plt.figure(figsize=figsize)\n",
    "        images = [image.image for image in self.clusters[k]]\n",
    "        columns = 4\n",
    "        rows = 1+ len(images)//columns\n",
    "        for i in range(columns*rows):\n",
    "            img = images[i].image\n",
    "            fig.add_subplot(rows, columns, i+1)\n",
    "            plt.imshow(img)\n",
    "        plt.show()\n",
    "        \n",
    "\n",
    "class Image():\n",
    "    \n",
    "    def __init__(self, path, shape=(128, 128)) -> None:\n",
    "        self.path = path\n",
    "        self.shape = shape\n",
    "        self.array = cv2.imread(path, cv2.IMREAD_COLOR)\n",
    "        self.array = cv2.resize(self.array, shape)\n",
    "        self.array = self.array[:,:,::-1]\n",
    "        self.array = self.array.flatten()\n",
    "        self.prev_cluster = -1\n",
    "        self.cluster = -2\n",
    "    \n",
    "    def is_same_cluster(self):\n",
    "        if self.prev_cluster == self.cluster:\n",
    "            return True\n",
    "        return False\n",
    "\n",
    "    @property\n",
    "    def image(self):\n",
    "        return self.array.reshape((self.shape + (3,)))"
   ]
  },
  {
   "cell_type": "code",
   "execution_count": null,
   "id": "2f1ef068",
   "metadata": {},
   "outputs": [
    {
     "name": "stdout",
     "output_type": "stream",
     "text": [
      "everything ok\n"
     ]
    },
    {
     "name": "stderr",
     "output_type": "stream",
     "text": [
      "2021-11-04 15:19:35.767559: W tensorflow/stream_executor/platform/default/dso_loader.cc:64] Could not load dynamic library 'libcuda.so.1'; dlerror: libcuda.so.1: cannot open shared object file: No such file or directory\n",
      "2021-11-04 15:19:35.767604: W tensorflow/stream_executor/cuda/cuda_driver.cc:269] failed call to cuInit: UNKNOWN ERROR (303)\n",
      "2021-11-04 15:19:35.767637: I tensorflow/stream_executor/cuda/cuda_diagnostics.cc:156] kernel driver does not appear to be running on this host (hasser): /proc/driver/nvidia/version does not exist\n",
      "2021-11-04 15:19:35.767970: I tensorflow/core/platform/cpu_feature_guard.cc:142] This TensorFlow binary is optimized with oneAPI Deep Neural Network Library (oneDNN) to use the following CPU instructions in performance-critical operations:  AVX2 FMA\n",
      "To enable them in other operations, rebuild TensorFlow with the appropriate compiler flags.\n"
     ]
    },
    {
     "name": "stdout",
     "output_type": "stream",
     "text": [
      "everything ok\n",
      "everything ok\n",
      "everything ok\n",
      "everything ok\n",
      "everything ok\n",
      "everything ok\n",
      "everything ok\n"
     ]
    }
   ],
   "source": [
    "IMAGE_WIDTH = 64\n",
    "ae_config = {\n",
    "    \"input_dim\":IMAGE_WIDTH*IMAGE_WIDTH*3,\n",
    "    \"output_func\": \"sigmoid\",\n",
    "    \"latent_dim\": 16,\n",
    "    \"latent_func\": \"sigmoid\",\n",
    "    \"hidden_dim\": [3072, 1536, 768],\n",
    "    \"hidden_func\": [\"sigmoid\"]*3\n",
    "}\n",
    "k_dae = KDAE(8, ae_config)\n",
    "images = [Image(\"./simpson/\"+image,shape=(IMAGE_WIDTH, IMAGE_WIDTH)) for image in os.listdir(\"./simpson\")]\n",
    "k_dae.cluster_images(images,epochs_per_iter=20, stop=4)\n",
    "\n",
    "for k in range(8):\n",
    "    k_dae.plot_cluster(k)"
   ]
  },
  {
   "cell_type": "code",
   "execution_count": null,
   "id": "1f41b328",
   "metadata": {},
   "outputs": [],
   "source": []
  }
 ],
 "metadata": {
  "kernelspec": {
   "display_name": "Python 3 (ipykernel)",
   "language": "python",
   "name": "python3"
  },
  "language_info": {
   "codemirror_mode": {
    "name": "ipython",
    "version": 3
   },
   "file_extension": ".py",
   "mimetype": "text/x-python",
   "name": "python",
   "nbconvert_exporter": "python",
   "pygments_lexer": "ipython3",
   "version": "3.8.8"
  }
 },
 "nbformat": 4,
 "nbformat_minor": 5
}
